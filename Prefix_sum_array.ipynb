{
  "nbformat": 4,
  "nbformat_minor": 0,
  "metadata": {
    "colab": {
      "provenance": [],
      "collapsed_sections": [],
      "authorship_tag": "ABX9TyO9UMdTYcl3JLFvTMhMNv1h",
      "include_colab_link": true
    },
    "kernelspec": {
      "name": "python3",
      "display_name": "Python 3"
    },
    "language_info": {
      "name": "python"
    }
  },
  "cells": [
    {
      "cell_type": "markdown",
      "metadata": {
        "id": "view-in-github",
        "colab_type": "text"
      },
      "source": [
        "<a href=\"https://colab.research.google.com/github/salonii1030/Python-Array/blob/main/Prefix_sum_array.ipynb\" target=\"_parent\"><img src=\"https://colab.research.google.com/assets/colab-badge.svg\" alt=\"Open In Colab\"/></a>"
      ]
    },
    {
      "cell_type": "code",
      "execution_count": null,
      "metadata": {
        "id": "bKyMrjzEe4EC"
      },
      "outputs": [],
      "source": [
        "N = int(input())\n",
        "arr1 = list(map(int,input().split()[:N]))\n",
        "if N <=100000:\n",
        "  res = [sum(arr1[ : i + 1]) for i in range(len(arr1))]\n",
        "  print(*res)"
      ]
    }
  ]
}