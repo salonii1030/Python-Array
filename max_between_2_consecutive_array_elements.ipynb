{
  "nbformat": 4,
  "nbformat_minor": 0,
  "metadata": {
    "colab": {
      "provenance": [],
      "collapsed_sections": [],
      "authorship_tag": "ABX9TyPXfROFhdu9FnVZ8uFPuVMZ",
      "include_colab_link": true
    },
    "kernelspec": {
      "name": "python3",
      "display_name": "Python 3"
    },
    "language_info": {
      "name": "python"
    }
  },
  "cells": [
    {
      "cell_type": "markdown",
      "metadata": {
        "id": "view-in-github",
        "colab_type": "text"
      },
      "source": [
        "<a href=\"https://colab.research.google.com/github/salonii1030/Python-Array/blob/main/max_between_2_consecutive_array_elements.ipynb\" target=\"_parent\"><img src=\"https://colab.research.google.com/assets/colab-badge.svg\" alt=\"Open In Colab\"/></a>"
      ]
    },
    {
      "cell_type": "code",
      "execution_count": null,
      "metadata": {
        "id": "bKyMrjzEe4EC"
      },
      "outputs": [],
      "source": [
        "# Given a number N followed by N elements for every 2 consecutive numbers print the maximum of the 2.\n",
        "# Input Size : N <= 100000 \n",
        "# Sample Testcase :\n",
        "# INPUT\n",
        "# 5\n",
        "# 1 1 3 0 5\n",
        "# OUTPUT\n",
        "# 1 3 3 5\n",
        "\n",
        "N = int(input())\n",
        "l =[]\n",
        "if N <= 100000:\n",
        "  arr = list(map(int,input().split()[:N]))\n",
        "  for i,j in zip(arr,arr[1:]):\n",
        "    l.append(max(i,j))\n",
        "  print(*l)"
      ]
    }
  ]
}