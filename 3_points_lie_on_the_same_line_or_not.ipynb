{
  "nbformat": 4,
  "nbformat_minor": 0,
  "metadata": {
    "colab": {
      "provenance": [],
      "collapsed_sections": [],
      "authorship_tag": "ABX9TyP9xeG3Yb1/TA8ZkQuGfl9j",
      "include_colab_link": true
    },
    "kernelspec": {
      "name": "python3",
      "display_name": "Python 3"
    },
    "language_info": {
      "name": "python"
    }
  },
  "cells": [
    {
      "cell_type": "markdown",
      "metadata": {
        "id": "view-in-github",
        "colab_type": "text"
      },
      "source": [
        "<a href=\"https://colab.research.google.com/github/salonii1030/Python-Array/blob/main/3_points_lie_on_the_same_line_or_not.ipynb\" target=\"_parent\"><img src=\"https://colab.research.google.com/assets/colab-badge.svg\" alt=\"Open In Colab\"/></a>"
      ]
    },
    {
      "cell_type": "code",
      "execution_count": null,
      "metadata": {
        "id": "bKyMrjzEe4EC"
      },
      "outputs": [],
      "source": [
        "# Given 3 points check whether they lie on the same line.If they lie on the same line print 'yes' Otherwise print 'no'.\n",
        "# Sample Testcase :\n",
        "# INPUT\n",
        "# 0 1\n",
        "# 0 0\n",
        "# 0 2\n",
        "# OUTPUT\n",
        "# yes\n",
        "\n",
        "a = list(map(int,input().split()))\n",
        "b = list(map(int,input().split()))\n",
        "c = list(map(int,input().split()))\n",
        "fl = False\n",
        "for i in range(len(a)):\n",
        "  if a[i] == b[i] == c[i]:\n",
        "    fl = True\n",
        "  if (all(elem == a[0] for elem in a)) and (all(elem == b[0] for elem in b)) and (all(elem == c[0] for elem in c)):\n",
        "    fl = True\n",
        "if fl:\n",
        "  print(\"yes\")\n",
        "else:\n",
        "  print(\"no\")"
      ]
    }
  ]
}